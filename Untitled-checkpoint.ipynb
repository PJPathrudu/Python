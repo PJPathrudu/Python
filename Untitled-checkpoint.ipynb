{
 "cells": [
  {
   "cell_type": "code",
   "execution_count": 3,
   "id": "b9de992d-ca05-4678-a998-dfe55a0ba52e",
   "metadata": {},
   "outputs": [
    {
     "name": "stdin",
     "output_type": "stream",
     "text": [
      "Enter 1st number:  3\n",
      "Enter 2nd number:  6\n"
     ]
    },
    {
     "name": "stdout",
     "output_type": "stream",
     "text": [
      "Sum of 1st & 2nd number:  9\n",
      "The difference between 1st & 2nd number:  3\n",
      "Product:  18\n",
      "Quotient:  2\n"
     ]
    }
   ],
   "source": [
    "#1. Write a Python program to take two numbers as input and print their sum, difference, product, and quotient.\n",
    "\n",
    "a= int(input(\"Enter 1st number: \"))\n",
    "b= int(input(\"Enter 2nd number: \"))\n",
    "print(\"Sum of 1st & 2nd number: \", a+b)\n",
    "if a>b:\n",
    "    print(\"The difference between 1st & 2nd number: \",a-b)\n",
    "else:\n",
    "    print(\"The difference between 1st & 2nd number: \",b-a)\n",
    "print(\"Product: \", a*b)\n",
    "if a>b:\n",
    "    print(\"Quotient: \",a//b)\n",
    "else:\n",
    "    print(\"Quotient: \",b//a)"
   ]
  },
  {
   "cell_type": "code",
   "execution_count": 5,
   "id": "0345d946-0ad2-448a-8c0d-0d831d74772c",
   "metadata": {},
   "outputs": [
    {
     "name": "stdin",
     "output_type": "stream",
     "text": [
      "Enter 1st number:  6\n",
      "Enter 2nd number:  3\n"
     ]
    },
    {
     "name": "stdout",
     "output_type": "stream",
     "text": [
      "1st number is greater than the 2nd number\n"
     ]
    }
   ],
   "source": [
    "#2.\tWrite a Python program that takes two numbers from the user and checks whether the first number is greater than, less than, or equal to the second number. Print an appropriate message.\n",
    "\n",
    "a= int(input(\"Enter 1st number: \"))\n",
    "b= int(input(\"Enter 2nd number: \"))\n",
    "if a>b:\n",
    "  \t\t\t  print(\"1st number is greater than the 2nd number\")\n",
    "elif a<b:\n",
    "    \t\t\tprint(\"1st number is less than the 2nd number\")\n",
    "elif a==b:\n",
    "    \t\t\tprint(\"1st number is equal to the 2nd number\")"
   ]
  },
  {
   "cell_type": "code",
   "execution_count": 7,
   "id": "15e84f25-83c4-4335-928d-963bf90cafc5",
   "metadata": {},
   "outputs": [
    {
     "name": "stdin",
     "output_type": "stream",
     "text": [
      "Enter 1st number:  3\n",
      "Enter 2nd number:  5\n",
      "Enter 3rd number:  8\n"
     ]
    },
    {
     "name": "stdout",
     "output_type": "stream",
     "text": [
      "False\n"
     ]
    }
   ],
   "source": [
    "#3.\tWrite a Python program that takes three numbers as input and prints True if all numbers are positive and their sum is greater than 50, otherwise prints False.\n",
    "\n",
    "a= int(input(\"Enter 1st number: \"))\n",
    "b= int(input(\"Enter 2nd number: \"))\n",
    "c= int(input(\"Enter 3rd number: \"))\n",
    "if a>0 and b>0 and c>0 and a+b+c>50:\n",
    "    print(\"True\")\n",
    "else:\n",
    "    print(\"False\")"
   ]
  },
  {
   "cell_type": "code",
   "execution_count": 9,
   "id": "8ed0e28c-73fb-4b6f-910a-23c8654fe431",
   "metadata": {},
   "outputs": [
    {
     "name": "stdin",
     "output_type": "stream",
     "text": [
      "Enter any number:  3\n"
     ]
    },
    {
     "name": "stdout",
     "output_type": "stream",
     "text": [
      "Number is not even or multiple of 5\n"
     ]
    }
   ],
   "source": [
    "#4.\tWrite a Python program that takes a number as input and checks whether it is an even number OR a multiple of 5 using logical operators. Print an appropriate message.\n",
    "\n",
    "a= int(input(\"Enter any number: \"))\n",
    "if a%2==0 and a%5==0:\n",
    "    print(\"Even number and multiple of 5\")\n",
    "elif a%2==0 or a%5==0:\n",
    "    print(\"Even number or multiple of 5\")\n",
    "else:\n",
    "    print(\"Number is not even or multiple of 5\")"
   ]
  },
  {
   "cell_type": "code",
   "execution_count": 11,
   "id": "ed958279-cdc4-42fd-a977-518dd27e73ce",
   "metadata": {},
   "outputs": [
    {
     "name": "stdin",
     "output_type": "stream",
     "text": [
      "Enter 1st number:  4\n",
      "Enter 2nd number:  6\n"
     ]
    },
    {
     "name": "stdout",
     "output_type": "stream",
     "text": [
      "4 6\n",
      "6 4\n"
     ]
    }
   ],
   "source": [
    "#5.\tWrite a Python program that takes two numbers and swaps them without using a third variable. Print the numbers before and after swapping.\n",
    "\n",
    "a= int(input(\"Enter 1st number: \"))\n",
    "b= int(input(\"Enter 2nd number: \"))\n",
    "print(a, b)\n",
    "a,b=b,a\n",
    "print(a,b)"
   ]
  },
  {
   "cell_type": "code",
   "execution_count": 13,
   "id": "928350f9-c5a9-4a49-83e9-b9d710ee3c84",
   "metadata": {},
   "outputs": [
    {
     "name": "stdin",
     "output_type": "stream",
     "text": [
      "Enter any number:  6\n"
     ]
    },
    {
     "name": "stdout",
     "output_type": "stream",
     "text": [
      "It is a positive number\n"
     ]
    }
   ],
   "source": [
    "#1.\tWrite a Python program that takes an integer as input and checks whether it is positive, negative, or zero. Print the result.\n",
    "a= int(input(\"Enter any number: \"))\n",
    "if a>0:\n",
    "    print(\"It is a positive number\")\n",
    "elif a<0:\n",
    "    print(\"It is a negative number\")\n",
    "else:\n",
    "    print(\"You've entered Zero\")"
   ]
  },
  {
   "cell_type": "code",
   "execution_count": 15,
   "id": "fd9f5c37-fd94-40f1-86be-34ddfbe72fae",
   "metadata": {},
   "outputs": [
    {
     "name": "stdin",
     "output_type": "stream",
     "text": [
      "Enter your marks:  67\n"
     ]
    },
    {
     "name": "stdout",
     "output_type": "stream",
     "text": [
      "Your grade is 'C'\n"
     ]
    }
   ],
   "source": [
    "#2.\tWrite a Python program that takes a student's marks as input and prints their grade based on the following conditions:\n",
    "##Marks >= 90 → Grade: A\n",
    "##Marks >= 75 → Grade: B\n",
    "##Marks >= 50 → Grade: C\n",
    "##Marks < 50 → Grade: Fail\n",
    "\n",
    "M= int(input(\"Enter your marks: \"))\n",
    "if M >= 90:\n",
    "    print(\"Your grade is 'A'\")\n",
    "elif M >= 75:\n",
    "    print(\"Your grade is 'B'\")\n",
    "elif M >= 50:\n",
    "    print(\"Your grade is 'C'\")\n",
    "else:\n",
    "    print(\"You've failed\")"
   ]
  },
  {
   "cell_type": "code",
   "execution_count": 17,
   "id": "81491199-8185-4394-9d55-ffc45f442508",
   "metadata": {},
   "outputs": [
    {
     "name": "stdin",
     "output_type": "stream",
     "text": [
      "Enter 1st number:  5\n",
      "Enter 2nd number:  6\n",
      "Enter 3rd number:  7\n"
     ]
    },
    {
     "name": "stdout",
     "output_type": "stream",
     "text": [
      "3rd number is the largest number\n"
     ]
    }
   ],
   "source": [
    "#3.\tWrite a Python program that takes three numbers as input and prints the largest one using\n",
    "#if-elif-else\n",
    "\n",
    "a= int(input(\"Enter 1st number: \"))\n",
    "b= int(input(\"Enter 2nd number: \"))\n",
    "c= int(input(\"Enter 3rd number: \"))\n",
    "if a>b>c or a>c>b:\n",
    "    print(\"1st number is the largest number\")\n",
    "elif b>a>c or b>c>a:\n",
    "    print(\"2nd number is the largest number\")\n",
    "elif c>a>b or c>b>a:\n",
    "    print(\"3rd number is the largest number\")\n",
    "else:\n",
    "    print(\"All numbers are equal\")"
   ]
  },
  {
   "cell_type": "code",
   "execution_count": 19,
   "id": "4e839764-e825-4dd3-ad4d-e9509a64073e",
   "metadata": {},
   "outputs": [
    {
     "name": "stdin",
     "output_type": "stream",
     "text": [
      "Enter any year:  2027\n"
     ]
    },
    {
     "name": "stdout",
     "output_type": "stream",
     "text": [
      "It is not a leap year\n"
     ]
    }
   ],
   "source": [
    "#4.\tWrite a Python program to check whether a given year is a leap year or not.\n",
    "##  A year is a leap year if:\n",
    "## a.It is divisible by 4 and not divisible by 100, OR\n",
    "## b.It is divisible by 400\n",
    "y= int(input(\"Enter any year: \"))\n",
    "if y%4==0 and y%100!=0:\n",
    "    print(\"It is a leap year\")\n",
    "elif y%400==0:\n",
    "    print(\"It is a leap year\")\n",
    "else:\n",
    "    print(\"It is not a leap year\")"
   ]
  },
  {
   "cell_type": "code",
   "execution_count": 21,
   "id": "8ed05116-7c49-41b5-a919-20831a3330e9",
   "metadata": {},
   "outputs": [
    {
     "name": "stdout",
     "output_type": "stream",
     "text": [
      "1\n",
      "2\n",
      "3\n",
      "4\n",
      "6\n",
      "7\n",
      "8\n",
      "9\n",
      "10\n"
     ]
    }
   ],
   "source": [
    "#5.\tWrite a Python program that prints numbers from 1 to 10 but skips the number 5 using the continue statement.\n",
    "\n",
    "for i in range(1,11):\n",
    "    if i==5:\n",
    "        continue\n",
    "    print(i)"
   ]
  },
  {
   "cell_type": "code",
   "execution_count": 23,
   "id": "41974379-8561-4c90-b210-f28f414050ca",
   "metadata": {},
   "outputs": [
    {
     "name": "stdout",
     "output_type": "stream",
     "text": [
      "2\n",
      "3\n",
      "5\n",
      "7\n",
      "11\n",
      "13\n",
      "17\n",
      "19\n",
      "23\n",
      "29\n",
      "31\n",
      "37\n",
      "41\n",
      "43\n",
      "47\n"
     ]
    }
   ],
   "source": [
    "#6.\tWrite a Python program to print all prime numbers between 1 and 50, using a for loop and the break statement to stop checking non-prime numbers early.\n",
    "\n",
    "for i in range(1, 51):\n",
    "    if i<2:\n",
    "        continue\n",
    "    prime = True\n",
    "    for j in range(2, int(i ** 0.5) + 1):\n",
    "        if i % j == 0:\n",
    "            prime = False\n",
    "            break\n",
    "    if prime:\n",
    "        print(i)"
   ]
  },
  {
   "cell_type": "code",
   "execution_count": 25,
   "id": "debcb76b-ddcf-4011-95ef-4679808e57b5",
   "metadata": {},
   "outputs": [
    {
     "name": "stdin",
     "output_type": "stream",
     "text": [
      "Enter any number:  10\n"
     ]
    },
    {
     "name": "stdout",
     "output_type": "stream",
     "text": [
      "1\n",
      "1\n",
      "2\n",
      "3\n",
      "5\n",
      "8\n"
     ]
    }
   ],
   "source": [
    "#7.\tWrite a Python program that prints Fibonacci numbers up to a given limit using a while loop.\n",
    "\n",
    "a=int(input(\"Enter any number: \"))\n",
    "a1,a2=0,1\n",
    "while a2<a:\n",
    "    print(a2)\n",
    "    a1,a2=a2,a1+a2"
   ]
  },
  {
   "cell_type": "code",
   "execution_count": 29,
   "id": "7351a13e-8587-46fa-a963-abd299d341da",
   "metadata": {},
   "outputs": [
    {
     "name": "stdin",
     "output_type": "stream",
     "text": [
      "Enter a number:  6\n"
     ]
    },
    {
     "name": "stdout",
     "output_type": "stream",
     "text": [
      "6 X 1 = 6\n",
      "6 X 2 = 12\n",
      "6 X 3 = 18\n",
      "6 X 4 = 24\n",
      "6 X 5 = 30\n",
      "6 X 6 = 36\n",
      "6 X 7 = 42\n",
      "6 X 8 = 48\n",
      "6 X 9 = 54\n",
      "6 X 10 = 60\n",
      "6 X 11 = 66\n",
      "6 X 12 = 72\n"
     ]
    }
   ],
   "source": [
    "#8.\tWrite a Python program to print the multiplication table of a given number using a while loop.\n",
    "\n",
    "n=int(input(\"Enter a number: \"))\n",
    "i=1\n",
    "while i<13:\n",
    "    print(n,\"X\", i, \"=\", n*i)\n",
    "    i=i+1"
   ]
  },
  {
   "cell_type": "code",
   "execution_count": 94,
   "id": "272f8e4b-75a1-4be9-9ddb-d24ebdf4d583",
   "metadata": {},
   "outputs": [
    {
     "name": "stdin",
     "output_type": "stream",
     "text": [
      "Enter numbers with space:  2 3 4\n"
     ]
    },
    {
     "name": "stdout",
     "output_type": "stream",
     "text": [
      "sum:  9\n",
      "maximum:  4\n",
      "minimum:  2\n"
     ]
    }
   ],
   "source": [
    "#1.\tWrite a Python program that takes a list of numbers as input and prints the sum, maximum, and minimum values of the list.\n",
    "try:               #ignore this because I previoulsy updated list as a variable\n",
    "    del list\n",
    "except NameError:\n",
    "    pass\n",
    "user_entry=input(\"Enter numbers with space: \")  #starts from here\n",
    "l=list(map(int,user_entry.split()))\n",
    "print(\"sum: \",sum(l))\n",
    "print(\"maximum: \",max(l))\n",
    "print(\"minimum: \",min(l))\n"
   ]
  },
  {
   "cell_type": "code",
   "execution_count": 55,
   "id": "4ded020c-116f-486d-a3d4-3fd4d6fbba0d",
   "metadata": {},
   "outputs": [
    {
     "name": "stdout",
     "output_type": "stream",
     "text": [
      "KKD HYD\n"
     ]
    }
   ],
   "source": [
    "#2.\tWrite a Python program that takes a tuple containing names of 5 cities and prints the first and last city using indexing.\n",
    "t=(\"KKD\",\"Vizag\",\"Vijaywada\",\"RJY\",\"HYD\")\n",
    "print(t[0],t[-1])"
   ]
  },
  {
   "cell_type": "code",
   "execution_count": 96,
   "id": "d45043bf-fc3a-4237-8d40-5f6bb5c4862f",
   "metadata": {},
   "outputs": [
    {
     "name": "stdin",
     "output_type": "stream",
     "text": [
      "Enter numbers with space:  2 3 4\n",
      "Enter numbers with space:  3 4 5 6\n"
     ]
    },
    {
     "name": "stdout",
     "output_type": "stream",
     "text": [
      "Union:  {2, 3, 4, 5, 6}\n",
      "Intersection:  {3, 4}\n",
      "Difference in set1:  {2}\n",
      "Difference in set2:  {5, 6}\n"
     ]
    }
   ],
   "source": [
    "#3.\tWrite a Python program that takes two sets and prints their union, intersection, and difference.\n",
    "s1=set(map(int,input(\"Enter numbers with space: \").split()))\n",
    "s2=set(map(int,input(\"Enter numbers with space: \").split()))\n",
    "print(\"Union: \",s1|s2)\n",
    "print(\"Intersection: \",s1&s2)\n",
    "print(\"Difference in set1: \",s1-s2)\n",
    "print(\"Difference in set2: \",s2-s1)"
   ]
  },
  {
   "cell_type": "code",
   "execution_count": 104,
   "id": "0e4490d8-a8d0-465b-a01a-602f0376292d",
   "metadata": {},
   "outputs": [
    {
     "name": "stdin",
     "output_type": "stream",
     "text": [
      "Enter your key:  City\n"
     ]
    },
    {
     "name": "stdout",
     "output_type": "stream",
     "text": [
      "KKD\n"
     ]
    }
   ],
   "source": [
    "#4.\tWrite a Python program that checks if a given key exists in a dictionary. If the key exists, print its value; otherwise, print \"Key not found\".\n",
    "k=input(\"Enter your key: \")\n",
    "d={\"Name\":\"Arjun\",\"Age\":26,\"City\":\"KKD\"}\n",
    "if k in d:\n",
    "    print(d[k])\n",
    "else:\n",
    "    print(\"Key not found\")"
   ]
  },
  {
   "cell_type": "code",
   "execution_count": 110,
   "id": "b872158a-ec43-4d9f-8104-c68656e84cdc",
   "metadata": {},
   "outputs": [
    {
     "name": "stdout",
     "output_type": "stream",
     "text": [
      "{'Suman': 15, 'Varun': 25, 'Ramya': 27, 'Arjun': 35, 'Raghu': 49}\n"
     ]
    }
   ],
   "source": [
    "#5.\tWrite a Python program that sorts a dictionary by its values in ascending order.\n",
    "marks={\"Varun\":25,\"Arjun\":35,\"Suman\":15,\"Raghu\":49,\"Ramya\":27}\n",
    "asc_marks=dict(sorted(marks.items(),key=lambda item:item[1]))\n",
    "print(asc_marks)"
   ]
  },
  {
   "cell_type": "code",
   "execution_count": 114,
   "id": "9e6f1f05-f296-4987-8b0a-6f8f737531ce",
   "metadata": {},
   "outputs": [
    {
     "name": "stdout",
     "output_type": "stream",
     "text": [
      "Hello, welcome to Python!\n"
     ]
    }
   ],
   "source": [
    "#1.\tWrite a Python function named greet() that prints \"Hello, welcome to Python!\" Call the function.\n",
    "def greet(a):\n",
    "    a=\"Hello, welcome to Python!\"\n",
    "    print(a)\n",
    "\n",
    "greet(a)"
   ]
  },
  {
   "cell_type": "code",
   "execution_count": 116,
   "id": "2da855b8-841c-42a8-8768-17ba3410a8a6",
   "metadata": {},
   "outputs": [
    {
     "name": "stdin",
     "output_type": "stream",
     "text": [
      "Enter any number:  3\n",
      "Enter any number:  4\n"
     ]
    },
    {
     "name": "stdout",
     "output_type": "stream",
     "text": [
      "sum of the entered numbers:  7\n"
     ]
    }
   ],
   "source": [
    "#2.\tWrite a Python function named add_numbers() that takes two numbers as arguments and returns their sum. Call the function and print the result.\n",
    "def add_numbers(a,b):\n",
    "    print(\"sum of the entered numbers: \",a+b)\n",
    "\n",
    "a=int(input(\"Enter any number: \"))\n",
    "b=int(input(\"Enter any number: \"))\n",
    "add_numbers(a,b)"
   ]
  },
  {
   "cell_type": "code",
   "execution_count": 140,
   "id": "9a08eca3-3325-49c0-b9ff-2e9a9f5718e2",
   "metadata": {},
   "outputs": [
    {
     "name": "stdin",
     "output_type": "stream",
     "text": [
      "Enter any number:  2\n",
      "enter exponent:  \n"
     ]
    },
    {
     "name": "stdout",
     "output_type": "stream",
     "text": [
      "4\n"
     ]
    }
   ],
   "source": [
    "#3.\tWrite a function named power() that takes two arguments: a number and an exponent. The exponent should have a default value of 2. The function should return the result of raising the number to the given exponent.\n",
    "def power(a,b=2):\n",
    "    print(a**b)\n",
    "\n",
    "a=int(input(\"Enter any number: \"))\n",
    "b1=input(\"enter exponent: \")\n",
    "if b1==\"\":\n",
    "    power(a)\n",
    "else:\n",
    "    power(a,int(b1))"
   ]
  },
  {
   "cell_type": "code",
   "execution_count": 146,
   "id": "dd84d087-4687-45d5-8b1b-c498965e50be",
   "metadata": {},
   "outputs": [
    {
     "name": "stdout",
     "output_type": "stream",
     "text": [
      "1\n",
      "2\n",
      "3\n",
      "4\n"
     ]
    }
   ],
   "source": [
    "#4.\tWrite a Python program where a global variable count is updated inside a function using the global keyword.\n",
    "count=0\n",
    "def update_count():\n",
    "    global count\n",
    "    count+=1\n",
    "    print(count)\n",
    "update_count()\n",
    "update_count()\n",
    "update_count()\n",
    "update_count()"
   ]
  },
  {
   "cell_type": "code",
   "execution_count": 148,
   "id": "683d01cc-156e-4e38-b84c-c7e24fb82b07",
   "metadata": {},
   "outputs": [
    {
     "name": "stdin",
     "output_type": "stream",
     "text": [
      "enter 1st number:  2\n",
      "enter 2nd number:  3\n"
     ]
    },
    {
     "name": "stdout",
     "output_type": "stream",
     "text": [
      "sum:  5\n",
      "difference:  1\n",
      "product:  6\n"
     ]
    }
   ],
   "source": [
    "#5.\tWrite a Python function named calculate() that takes two numbers as input and returns their sum, difference, and product. Call the function and print the results.\n",
    "def calculate(a,b):\n",
    "    print(\"sum: \",a+b)\n",
    "    print(\"difference: \",max(a,b)-min(a,b))\n",
    "    print(\"product: \",a*b)\n",
    "\n",
    "a=int(input(\"enter 1st number: \"))\n",
    "b=int(input(\"enter 2nd number: \"))\n",
    "calculate(a,b)"
   ]
  },
  {
   "cell_type": "code",
   "execution_count": null,
   "id": "0164dafe-14fd-4168-aed3-72ee2126c853",
   "metadata": {},
   "outputs": [],
   "source": []
  }
 ],
 "metadata": {
  "kernelspec": {
   "display_name": "Python [conda env:base] *",
   "language": "python",
   "name": "conda-base-py"
  },
  "language_info": {
   "codemirror_mode": {
    "name": "ipython",
    "version": 3
   },
   "file_extension": ".py",
   "mimetype": "text/x-python",
   "name": "python",
   "nbconvert_exporter": "python",
   "pygments_lexer": "ipython3",
   "version": "3.12.7"
  }
 },
 "nbformat": 4,
 "nbformat_minor": 5
}
