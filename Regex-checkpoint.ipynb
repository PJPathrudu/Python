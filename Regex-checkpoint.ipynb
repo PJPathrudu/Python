{
 "cells": [
  {
   "cell_type": "code",
   "execution_count": 26,
   "id": "5b4b97b2-1fc7-425a-ad7a-fb3568a5238f",
   "metadata": {},
   "outputs": [
    {
     "name": "stdin",
     "output_type": "stream",
     "text": [
      "Enter your username:  John\n",
      "Enter your email:  John.cena@wwe.c\n"
     ]
    },
    {
     "name": "stdout",
     "output_type": "stream",
     "text": [
      "Valid username\n",
      "Email should contain username and @ and ends with .com\n"
     ]
    }
   ],
   "source": [
    "#Use re.search(), re.match(), and re.findall() to find patterns like email, phone numbers, or words starting with capital letters.\n",
    "\n",
    "import re\n",
    "name = input(\"Enter your username: \")\n",
    "mail = input(\"Enter your email: \")\n",
    "match = re.search(r\"^[A-Z]\",name)\n",
    "match1 = re.match(name,mail,re.IGNORECASE)\n",
    "match2 = re.findall(r\"@.*\\.com\",mail)\n",
    "if match:\n",
    "    print(\"Valid username\")\n",
    "else:\n",
    "    print(\"Username must starts with caps letter\")\n",
    "\n",
    "if match1 and match2:\n",
    "    print(\"Valid mail\")\n",
    "else:\n",
    "    print(\"Email should contain username and @ and ends with .com\")"
   ]
  },
  {
   "cell_type": "code",
   "execution_count": 46,
   "id": "9a16f06f-83f9-4321-bb18-d57b33f66610",
   "metadata": {},
   "outputs": [
    {
     "name": "stdin",
     "output_type": "stream",
     "text": [
      "Enter your full name:  John Cena\n"
     ]
    },
    {
     "name": "stdout",
     "output_type": "stream",
     "text": [
      "J\n",
      "0\n",
      "1\n",
      "(0, 1)\n"
     ]
    }
   ],
   "source": [
    "#Capture groups using group(), start(), end(), and span().\n",
    "\n",
    "n= input(\"Enter your full name: \")\n",
    "m= re.search(r\"^[A-Z]\",n)\n",
    "print(m.group())\n",
    "print(m.start())\n",
    "print(m.end())\n",
    "print(m.span())\n"
   ]
  },
  {
   "cell_type": "code",
   "execution_count": 58,
   "id": "9468ab78-2239-4ee0-80d0-762f5dc51cd6",
   "metadata": {},
   "outputs": [
    {
     "name": "stdin",
     "output_type": "stream",
     "text": [
      "Enter your word:  autoe\n"
     ]
    },
    {
     "name": "stdout",
     "output_type": "stream",
     "text": [
      "autoe\n"
     ]
    }
   ],
   "source": [
    "#Use . ^ $ * + ? {} in pattern examples.\n",
    "#Example: Match any 5-letter word starting with “a” and ending with “e”.\n",
    "\n",
    "w=input(\"Enter your word: \")\n",
    "check = r\"^a.{3}e$\"\n",
    "m=re.match(check,w)\n",
    "if m:\n",
    "    print(w)\n",
    "else:\n",
    "    print(\"word must starts with a and ends with e\")\n"
   ]
  },
  {
   "cell_type": "code",
   "execution_count": 78,
   "id": "c35441aa-702a-4de6-b24a-b3d573b59363",
   "metadata": {},
   "outputs": [
    {
     "name": "stdin",
     "output_type": "stream",
     "text": [
      "Enter your line:  I have 2 pens & 3 markers!\n"
     ]
    },
    {
     "name": "stdout",
     "output_type": "stream",
     "text": [
      "['2', '3']\n",
      "['I', ' ', 'h', 'a', 'v', 'e', ' ', ' ', 'p', 'e', 'n', 's', ' ', '&', ' ', ' ', 'm', 'a', 'r', 'k', 'e', 'r', 's', '!']\n",
      "['I', 'h', 'a', 'v', 'e', '2', 'p', 'e', 'n', 's', '3', 'm', 'a', 'r', 'k', 'e', 'r', 's']\n",
      "[' ', ' ', ' ', ' ', '&', ' ', ' ', '!']\n",
      "[' ', ' ', ' ', ' ', ' ', ' ']\n",
      "['I', 'h', 'a', 'v', 'e', '2', 'p', 'e', 'n', 's', '&', '3', 'm', 'a', 'r', 'k', 'e', 'r', 's', '!']\n",
      "['', '', '', '', '', '', '', '', '', '', '', '']\n",
      "['', '', '', '', '', '', '', '', '', '', '', '', '', '', '']\n"
     ]
    }
   ],
   "source": [
    "#Practice \\d, \\D, \\w, \\W, \\s, \\S, \\b, \\B.\n",
    "\n",
    "i=input(\"Enter your line: \")\n",
    "l = r\"\\d\"\n",
    "l1 = re.findall(l,i)\n",
    "print(l1)\n",
    "e = r\"\\D\"\n",
    "e1 = re.findall(e,i)\n",
    "print(e1)\n",
    "f = r\"\\w\"\n",
    "f1 = re.findall(f,i)\n",
    "print(f1)\n",
    "r = r\"\\W\"\n",
    "r1 = re.findall(r,i)\n",
    "print(r1)\n",
    "t = r\"\\s\"\n",
    "t1 = re.findall(t,i)\n",
    "print(t1)\n",
    "g = r\"\\S\"\n",
    "g1 = re.findall(g,i)\n",
    "print(g1)\n",
    "v = r\"\\b\"\n",
    "v1 = re.findall(v,i)\n",
    "print(v1)\n",
    "h = r\"\\B\"\n",
    "h1 = re.findall(h,i)\n",
    "print(h1)"
   ]
  },
  {
   "cell_type": "code",
   "execution_count": 82,
   "id": "ddcaf7b8-5a67-49d4-8d99-fc4d8c7c19b5",
   "metadata": {},
   "outputs": [
    {
     "name": "stdin",
     "output_type": "stream",
     "text": [
      "Enter your string:  Hello world\n"
     ]
    },
    {
     "name": "stdout",
     "output_type": "stream",
     "text": [
      "vowels in your string:  ['e', 'o', 'o']\n"
     ]
    }
   ],
   "source": [
    "#Match all vowels [aeiou], or digits [0-5] in a string.\n",
    "\n",
    "i = input(\"Enter your string: \")\n",
    "p = r\"[aeiou0-5]\"\n",
    "p1 = re.findall(p,i)\n",
    "print(\"vowels in your string: \",p1)"
   ]
  },
  {
   "cell_type": "code",
   "execution_count": 108,
   "id": "0bc65f17-2f78-4d9c-ab8c-80c4e3ab243f",
   "metadata": {},
   "outputs": [
    {
     "name": "stdout",
     "output_type": "stream",
     "text": [
      "a{2,3}:  ['aa', 'aaa', 'aaa']\n",
      "a*:  ['', 'a', '', '', 'a', '', '', '', '', 'aa', '', '']\n",
      "a+:  ['a', 'a', 'a']\n",
      "a?:  ['', '', '', '', '']\n"
     ]
    }
   ],
   "source": [
    "#Create patterns like a{2,3}, a*, a+, a?, etc.\n",
    "\n",
    "#a{2,3}\n",
    "w = \"a aa aaa aaaa\"\n",
    "p = r\"a{2,3}\"\n",
    "p1 = re.findall(p,w)\n",
    "print(\"a{2,3}: \",p1)\n",
    "\n",
    "#a*\n",
    "w1 = \"bat and YaaR\"\n",
    "h = r\"a*\"\n",
    "h1 = re.findall(h,w1)\n",
    "print(\"a*: \",h1)\n",
    "\n",
    "#a+\n",
    "w3 = \"small piece of a cake\"\n",
    "j = r\"a+\"\n",
    "j1 = re.findall(j,w3)\n",
    "print(\"a+: \",j1)\n",
    "\n",
    "#a?\n",
    "w4 = \"Hulk\"\n",
    "k = r\"a?\"\n",
    "k1 = re.findall(k,w4)\n",
    "print(\"a?: \",k1)"
   ]
  },
  {
   "cell_type": "code",
   "execution_count": 118,
   "id": "f0981759-493f-46f8-a824-314211bae824",
   "metadata": {},
   "outputs": [
    {
     "name": "stdin",
     "output_type": "stream",
     "text": [
      "Enter your 10 digit mobile number:  9876543210\n",
      "Enter your email:  john.ken@gmail.com\n"
     ]
    },
    {
     "name": "stdout",
     "output_type": "stream",
     "text": [
      "mobile number & mail is valid\n"
     ]
    }
   ],
   "source": [
    "#Use regex with if-else statements to check input format (e.g., validate a phone number or email).\n",
    "\n",
    "mobile = input(\"Enter your 10 digit mobile number: \")\n",
    "mail = input(\"Enter your email: \")\n",
    "p1 = r\"^[9876]\\d{9}\"\n",
    "p2 = r\"^[\\w\\.-]+@[\\w\\.-]+\\.com$\"\n",
    "m1 = re.findall(p1,mobile)\n",
    "m2 = re.findall(p2,mail)\n",
    "if m1 and m2:\n",
    "    print(\"mobile number & mail is valid\")\n",
    "else:\n",
    "    print(\"please check your details again\")"
   ]
  },
  {
   "cell_type": "code",
   "execution_count": 132,
   "id": "7b0b93ba-13c1-4d9a-bcb0-d75aba0ed5bd",
   "metadata": {},
   "outputs": [
    {
     "name": "stdin",
     "output_type": "stream",
     "text": [
      "enter date in dd/mm/yyyy format:  23/04/2025\n"
     ]
    },
    {
     "name": "stdout",
     "output_type": "stream",
     "text": [
      "Day:  23\n",
      "Month:  04\n",
      "Year:  2025\n"
     ]
    }
   ],
   "source": [
    "#Use parentheses () to extract specific parts of text like date components (dd/mm/yyyy).\n",
    "\n",
    "d = input(\"enter date in dd/mm/yyyy format: \")\n",
    "p = re.search(r\"^(\\d{2})/(\\d{2})/(\\d{4})$\", d)\n",
    "print(\"Day: \",p.group(1))\n",
    "print(\"Month: \",p.group(2))\n",
    "print(\"Year: \",p.group(3))"
   ]
  },
  {
   "cell_type": "code",
   "execution_count": 148,
   "id": "fc6c192d-2a0c-435d-ae9c-c3b02e956dbc",
   "metadata": {},
   "outputs": [
    {
     "name": "stdout",
     "output_type": "stream",
     "text": [
      "CSK, is my fav team in IPL!\n",
      "CSK is my fav team in IPL\n",
      "now  RCB, is my fav team in IPL!\n"
     ]
    }
   ],
   "source": [
    "#Use re.sub() to replace words or clean up text (e.g., remove punctuation).\n",
    "\n",
    "w = \"CSK, is my fav team in IPL!\"\n",
    "n = \"CSK\"\n",
    "r = \"RCB\"\n",
    "p1 = re.sub(r\"[^\\w\\s]\",\"\",w)\n",
    "p = re.sub(n,r,w)\n",
    "\n",
    "print(w)\n",
    "print(p1)\n",
    "print(\"now \",p)"
   ]
  },
  {
   "cell_type": "code",
   "execution_count": 168,
   "id": "c71cd99d-ac62-48d7-ae51-9737f8e9a7a2",
   "metadata": {},
   "outputs": [
    {
     "name": "stdout",
     "output_type": "stream",
     "text": [
      "['Hello', 'HELLO']\n",
      "First line.\n",
      "Second\n",
      "banana\n"
     ]
    }
   ],
   "source": [
    "#Practice using re.IGNORECASE, re.DOTALL, re.MULTILINE with re.compile().\n",
    "\n",
    "#re.IGNORECASE\n",
    "t = \"Hello world! HELLO again.\"\n",
    "p = re.compile(r\"hello\", re.IGNORECASE)\n",
    "m = p.findall(t)\n",
    "print(m)\n",
    "\n",
    "#re.DOTALL\n",
    "t2 = \"First line.\\nSecond line.\"\n",
    "p2 = re.compile(r\"First.*Second\", re.DOTALL)\n",
    "m2 = p2.search(t2)\n",
    "print(m2.group())\n",
    "\n",
    "#re.MULTILINE\n",
    "t3 = \"\"\"apple\n",
    "banana\n",
    "cherry\"\"\"\n",
    "\n",
    "p3 = re.compile(r\"^banana\", re.MULTILINE)\n",
    "m3 = p3.search(t3)\n",
    "print(m3.group())\n",
    "\n"
   ]
  },
  {
   "cell_type": "code",
   "execution_count": null,
   "id": "59815541-7d78-4ed1-b642-4adb316c3965",
   "metadata": {},
   "outputs": [],
   "source": []
  }
 ],
 "metadata": {
  "kernelspec": {
   "display_name": "Python [conda env:base] *",
   "language": "python",
   "name": "conda-base-py"
  },
  "language_info": {
   "codemirror_mode": {
    "name": "ipython",
    "version": 3
   },
   "file_extension": ".py",
   "mimetype": "text/x-python",
   "name": "python",
   "nbconvert_exporter": "python",
   "pygments_lexer": "ipython3",
   "version": "3.12.7"
  }
 },
 "nbformat": 4,
 "nbformat_minor": 5
}
