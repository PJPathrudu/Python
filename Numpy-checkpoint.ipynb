{
 "cells": [
  {
   "cell_type": "code",
   "execution_count": null,
   "id": "147f657c-51f3-4b00-b5ff-ce0a9c00fcdf",
   "metadata": {},
   "outputs": [],
   "source": [
    "#Numpy"
   ]
  },
  {
   "cell_type": "code",
   "execution_count": 14,
   "id": "f7a3862a-ea30-4cd3-84f7-be92d0ca14dd",
   "metadata": {},
   "outputs": [
    {
     "name": "stdout",
     "output_type": "stream",
     "text": [
      "28000000\n",
      "4000000\n"
     ]
    }
   ],
   "source": [
    "#Create a Python list and a NumPy array with 1 million elements\n",
    "\n",
    "import numpy as np\n",
    "import sys\n",
    "l = range(1000000)\n",
    "print(sys.getsizeof(1)*len(l))\n",
    "a = np.arange(1000000)\n",
    "print(a.size*a.itemsize)"
   ]
  },
  {
   "cell_type": "code",
   "execution_count": 21,
   "id": "161178b8-a875-404c-b7f8-891d0044b789",
   "metadata": {},
   "outputs": [
    {
     "name": "stdout",
     "output_type": "stream",
     "text": [
      "python list:  142.78626441955566\n",
      "numpy list:  4.597187042236328\n"
     ]
    }
   ],
   "source": [
    "#Compare the performance of NumPy arrays vs Python lists using a timer\n",
    "\n",
    "import time\n",
    "s = 1000000\n",
    "l1 = range(s)\n",
    "l2 = range(s)\n",
    "a1 = np.arange(s)\n",
    "a2 = np.arange(s)\n",
    "\n",
    "start = time.time()\n",
    "r = [(i+j) for i,j in zip(l1,l2)]\n",
    "print(\"python list: \",(time.time()-start)*1000)\n",
    "\n",
    "start = time.time()\n",
    "r = (a1+a2)\n",
    "print(\"numpy list: \",(time.time()-start)*1000)\n"
   ]
  },
  {
   "cell_type": "code",
   "execution_count": 63,
   "id": "01afba40-d00e-4bb0-8832-7640f6bdd0ca",
   "metadata": {},
   "outputs": [
    {
     "name": "stdout",
     "output_type": "stream",
     "text": [
      "a:  [0 1 2 3]\n",
      "b:  [4 5 6 7]\n",
      "sum:  [ 4  6  8 10]\n",
      "sub:  [4 4 4 4]\n",
      "mlt:  [ 0  5 12 21]\n",
      "dvs:  [0.         0.2        0.33333333 0.42857143]\n"
     ]
    }
   ],
   "source": [
    "#Perform element-wise operations: addition, subtraction, multiplication, division\n",
    "\n",
    "a = np.arange(4)\n",
    "b = np.arange(4,8)\n",
    "print(\"a: \",a)\n",
    "print(\"b: \",b)\n",
    "print(\"sum: \",a+b)\n",
    "print(\"sub: \",b-a)\n",
    "print(\"mlt: \",a*b)\n",
    "print(\"dvs: \",a/b)\n"
   ]
  },
  {
   "cell_type": "code",
   "execution_count": 93,
   "id": "ceccc9d1-ef24-4ea5-b1a4-972fd3385a7b",
   "metadata": {},
   "outputs": [
    {
     "name": "stdout",
     "output_type": "stream",
     "text": [
      "a:  [1 2 3]\n",
      "b:  [5 6 7]\n",
      "dot product:  38\n",
      "square root of a:  [1.         1.41421356 1.73205081]\n",
      "square root of b:  [2.23606798 2.44948974 2.64575131]\n",
      "power (a):  [1 4 9]\n",
      "power (b):  [25 36 49]\n"
     ]
    }
   ],
   "source": [
    "#Compute dot product and apply mathematical operations like square root and power\n",
    "\n",
    "a = np.arange(1,4)\n",
    "b = np.arange(5,8)\n",
    "print(\"a: \",a)\n",
    "print(\"b: \",b)\n",
    "print(\"dot product: \",a.dot(b))\n",
    "print(\"square root of a: \",np.sqrt(a))\n",
    "print(\"square root of b: \",np.sqrt(b))\n",
    "print(\"power (a): \",np.power(a,2))\n",
    "print(\"power (b): \",np.power(b,2))"
   ]
  },
  {
   "cell_type": "code",
   "execution_count": 161,
   "id": "dfc8a157-8380-45e9-a155-7e7d3a7dd49f",
   "metadata": {},
   "outputs": [
    {
     "name": "stdout",
     "output_type": "stream",
     "text": [
      "[[1 2 3]\n",
      " [4 5 6]\n",
      " [7 8 9]]\n",
      "sub-arrays: \n",
      "[[1 2 3]\n",
      " [4 5 6]]\n",
      "\n",
      "[[1 2]\n",
      " [4 5]\n",
      " [7 8]]\n",
      "\n",
      "[[5 6]\n",
      " [8 9]]\n"
     ]
    }
   ],
   "source": [
    "#Create a 3x3 NumPy array and practice slicing:\n",
    "    #Extract a row, column, and sub-array\n",
    "\n",
    "a = np.arange(1,10).reshape(3,3)\n",
    "print(a)\n",
    "print(\"sub-arrays: \")\n",
    "print(a[0:2])\n",
    "print()\n",
    "print(a[0:3,0:2])\n",
    "print()\n",
    "print(a[1:3,1:3])\n"
   ]
  },
  {
   "cell_type": "code",
   "execution_count": 199,
   "id": "7feaba75-2ca3-4ad1-9270-553d588ef262",
   "metadata": {},
   "outputs": [
    {
     "name": "stdout",
     "output_type": "stream",
     "text": [
      "[[1 2]\n",
      " [3 4]]\n",
      "\n",
      "[[5 6]\n",
      " [7 8]]\n",
      "\n",
      "[1 2 3 4]\n",
      "\n",
      "[[5 6]\n",
      " [7 8]]\n",
      "\n",
      "[5 6 7 8]\n",
      "\n",
      "[[5]\n",
      " [6]\n",
      " [7]\n",
      " [8]]\n"
     ]
    }
   ],
   "source": [
    "#Stack two arrays using np.hstack() and np.vstack()\n",
    "\n",
    "a = np.arange(1,5).reshape(2,2)\n",
    "b = np.arange(5,9).reshape(2,2)\n",
    "print(a)\n",
    "print()\n",
    "print(b)\n",
    "print()\n",
    "\n",
    "print(np.hstack(a))\n",
    "print()\n",
    "print(np.vstack(b))\n",
    "print()\n",
    "print(b.flatten())\n",
    "print()\n",
    "print(np.vstack((b.flatten())))\n"
   ]
  },
  {
   "cell_type": "code",
   "execution_count": 229,
   "id": "2d9e6ec2-5c04-4159-a3f8-fa36a615991c",
   "metadata": {},
   "outputs": [
    {
     "name": "stdout",
     "output_type": "stream",
     "text": [
      "[[1 2 3]\n",
      " [4 5 6]\n",
      " [7 8 9]]\n",
      "\n",
      "[[False False False]\n",
      " [False False  True]\n",
      " [ True  True  True]]\n",
      "\n",
      "[[ 1  2  3]\n",
      " [ 4  5 -1]\n",
      " [-1 -1 -1]]\n"
     ]
    }
   ],
   "source": [
    "#Filter elements from an array using Boolean indexing:\n",
    "\t#Find all values greater than a threshold\n",
    "\t#Replace all even numbers in an array with -1\n",
    "\n",
    "\n",
    "a = np.arange(1,10).reshape(3,3)\n",
    "b = a>5\n",
    "print(a)\n",
    "print()\n",
    "print(b)\n",
    "print()\n",
    "a[b]=-1\n",
    "print(a)"
   ]
  },
  {
   "cell_type": "code",
   "execution_count": 258,
   "id": "ce4d2d2e-5022-4ac3-ba08-4b0fd761353f",
   "metadata": {},
   "outputs": [
    {
     "name": "stdout",
     "output_type": "stream",
     "text": [
      "[[0.38512602 0.50681559 0.77803792 0.12172199]\n",
      " [0.24299119 0.68603386 0.68686114 0.66735562]\n",
      " [0.60307358 0.83221981 0.7361514  0.34075952]\n",
      " [0.90424136 0.3655962  0.35570504 0.49047868]]\n",
      "\n",
      "[[2 3 3 4]\n",
      " [4 2 1 5]\n",
      " [4 4 1 5]\n",
      " [3 3 3 2]]\n"
     ]
    }
   ],
   "source": [
    "#Create a 2D NumPy array with random values using np.random.rand()\n",
    "\n",
    "a= np.random.rand(4,4)\n",
    "b = np.random.randint(6,size=(4,4))\n",
    "print(a)\n",
    "print()\n",
    "print(b)"
   ]
  },
  {
   "cell_type": "code",
   "execution_count": 272,
   "id": "f47ae4df-5b99-4e71-9639-08a5703ab47b",
   "metadata": {},
   "outputs": [],
   "source": [
    "#Save the array to a text file using np.savetxt('data.txt', array, fmt='%.2f')\n",
    "\n",
    "a = np.random.rand(4,4)\n",
    "np.savetxt('data.txt',a,fmt='%.2f')"
   ]
  },
  {
   "cell_type": "code",
   "execution_count": 274,
   "id": "3234520f-811a-4910-a18d-5c34010aaab0",
   "metadata": {},
   "outputs": [
    {
     "data": {
      "text/plain": [
       "array([[0.18, 0.94, 0.5 , 0.26],\n",
       "       [0.94, 0.78, 0.09, 0.45],\n",
       "       [0.37, 0.09, 0.26, 0.4 ],\n",
       "       [0.62, 0.63, 0.3 , 0.32]])"
      ]
     },
     "execution_count": 274,
     "metadata": {},
     "output_type": "execute_result"
    }
   ],
   "source": [
    "#Load the array from the file using np.loadtxt()\n",
    "\n",
    "b = np.loadtxt('data.txt')\n",
    "b"
   ]
  },
  {
   "cell_type": "code",
   "execution_count": 296,
   "id": "9936b3bd-efc9-40ca-a5c1-f421aca0d92e",
   "metadata": {},
   "outputs": [
    {
     "name": "stdout",
     "output_type": "stream",
     "text": [
      "sum:  7.130000000000001\n",
      "\n",
      "mean:  0.44562500000000005\n",
      "\n",
      "[[0.18 0.94]\n",
      " [0.5  0.26]\n",
      " [0.94 0.78]\n",
      " [0.09 0.45]\n",
      " [0.37 0.09]\n",
      " [0.26 0.4 ]\n",
      " [0.62 0.63]\n",
      " [0.3  0.32]]\n"
     ]
    }
   ],
   "source": [
    "#Perform operations like sum, mean, and reshape on the loaded array\n",
    "\n",
    "b = np.loadtxt('data.txt')\n",
    "print(\"sum: \",np.sum(b))\n",
    "print()\n",
    "print(\"mean: \",np.mean(b))\n",
    "print()\n",
    "print(np.reshape(b,(8,2)))"
   ]
  },
  {
   "cell_type": "code",
   "execution_count": 333,
   "id": "af24971b-c8ad-4240-99c4-d2994a948d77",
   "metadata": {},
   "outputs": [
    {
     "name": "stdout",
     "output_type": "stream",
     "text": [
      "[[3 9 7]\n",
      " [9 0 8]\n",
      " [7 7 5]]\n",
      "\n",
      "sqr of each element:\n",
      "9\n",
      "81\n",
      "49\n",
      "81\n",
      "0\n",
      "64\n",
      "49\n",
      "49\n",
      "25\n"
     ]
    }
   ],
   "source": [
    "#Iterate through a 3x3 array using np.nditer() and print squares of each element\n",
    "\n",
    "a = np.random.randint(10,size=(3,3))\n",
    "print(a)\n",
    "print()\n",
    "print(\"sqr of each element:\")\n",
    "for i in np.nditer(a):\n",
    "    b = i**2\n",
    "    print(i**2)"
   ]
  },
  {
   "cell_type": "code",
   "execution_count": 394,
   "id": "5afe7a25-82ee-4c73-a5d5-e7f4044f660b",
   "metadata": {},
   "outputs": [
    {
     "name": "stdout",
     "output_type": "stream",
     "text": [
      "original array:  [[77 98 60 53  3 64 79 27 81 47]]\n",
      "elements >50:  [77 98 60 53 64 79 81]\n",
      "even numbers:  [98 60 64]\n",
      "b/w 30 & 70:  [60 53 64 47]\n"
     ]
    }
   ],
   "source": [
    "#Generate a 1D array of random integers and filter:\n",
    "    #All elements > 50\n",
    "    #All even numbers\n",
    "    #Elements between 30 and 70 using logical conditions\n",
    "\n",
    "\n",
    "a = np.random.randint(100,size=(1,10))\n",
    "print(\"original array: \",a)\n",
    "b = a>50\n",
    "b1 = a[b]\n",
    "print(\"elements >50: \",b1)\n",
    "c = a%2==0\n",
    "c1 = a[c]\n",
    "print(\"even numbers: \",c1)\n",
    "d = ((a>=30) & (a<=70))\n",
    "d1 = a[d]\n",
    "print(\"b/w 30 & 70: \",d1)"
   ]
  }
 ],
 "metadata": {
  "kernelspec": {
   "display_name": "Python [conda env:base] *",
   "language": "python",
   "name": "conda-base-py"
  },
  "language_info": {
   "codemirror_mode": {
    "name": "ipython",
    "version": 3
   },
   "file_extension": ".py",
   "mimetype": "text/x-python",
   "name": "python",
   "nbconvert_exporter": "python",
   "pygments_lexer": "ipython3",
   "version": "3.12.7"
  }
 },
 "nbformat": 4,
 "nbformat_minor": 5
}
